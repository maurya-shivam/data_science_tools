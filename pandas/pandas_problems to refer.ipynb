{
 "cells": [
  {
   "cell_type": "markdown",
   "metadata": {},
   "source": [
    "### hackerrank"
   ]
  },
  {
   "cell_type": "code",
   "execution_count": 2,
   "metadata": {},
   "outputs": [],
   "source": [
    "import pandas as pd\n",
    "import numpy as np\n",
    "import sys, os\n",
    "import requests"
   ]
  },
  {
   "cell_type": "code",
   "execution_count": 160,
   "metadata": {},
   "outputs": [
    {
     "name": "stdout",
     "output_type": "stream",
     "text": [
      "    Studen_height  Student_weight\n",
      "s1          176.2            85.1\n",
      "s2          158.4            90.2\n",
      "s3            NaN             NaN\n",
      "s4          156.2            80.4\n",
      "s5          161.4             NaN\n",
      "\n",
      "    Studen_height  Student_weight\n",
      "s1          176.2            85.1\n",
      "s2          158.4            90.2\n",
      "s4          156.2            80.4\n"
     ]
    }
   ],
   "source": [
    "df_A = pd.DataFrame(list(zip(heights_A, weights_A)), index = index, columns = ['Studen_height', 'Student_weight'])\n",
    "df_A.loc[['s3'], ['Studen_height', 'Student_weight']] = np.nan  # = None\n",
    "df_A.loc[['s5'], ['Student_weight']] = None\n",
    "print(f'{df_A}\\n')\n",
    "df_A2 = df_A.dropna()\n",
    "print(df_A2)"
   ]
  },
  {
   "cell_type": "code",
   "execution_count": 173,
   "metadata": {
    "collapsed": true
   },
   "outputs": [
    {
     "name": "stdout",
     "output_type": "stream",
     "text": [
      "  Unnamed: 0  Student_height  Student_weight\n",
      "0         s1           176.2            85.1\n",
      "1         s2           158.4            90.2\n",
      "2         s3           167.6            76.8\n",
      "3         s4           156.2            80.4\n",
      "4         s5           161.4            78.9\n",
      "    Student_height  Student_weight\n",
      "s1           176.2            85.1\n",
      "s2           158.4            90.2\n",
      "s3           167.6            76.8\n",
      "s4           156.2            80.4\n",
      "s5           161.4            78.9\n",
      "   Student_height  Student_weight\n",
      "0      126.255863       54.002814\n",
      "1      178.567010       79.112165\n",
      "2      198.825895       88.836430\n",
      "3      163.689099       71.970768\n",
      "4      194.533020       86.775849\n",
      "                    0                  1\n",
      "0      Student_height     Student_weight\n",
      "1  126.25586317363256  54.00281432334363\n",
      "2  178.56701008318754  79.11216483993003\n",
      "3   198.8258950640911  88.83642963076373\n",
      "4  163.68909908696526  71.97076756174332\n",
      "5  194.53301967378079  86.77584944341478\n",
      "            0          1\n",
      "0  178.567010  79.112165\n",
      "1  198.825895  88.836430\n",
      "2  163.689099  71.970768\n",
      "3  194.533020  86.775849\n"
     ]
    }
   ],
   "source": [
    "index = ['s{}'.format(x) for x in [1,2,3,4,5]]\n",
    "heights_A = pd.Series([176.2, 158.4, 167.6, 156.2, 161.4], index = index )\n",
    "weights_A = pd.Series([85.1, 90.2, 76.8, 80.4, 78.9], index = index )\n",
    "\n",
    "df_A = pd.DataFrame(list(zip(heights_A, weights_A)), index = index, columns = ['Student_height', 'Student_weight'])\n",
    "df_A.to_csv('classA.csv')\n",
    "\n",
    "df_A2 = pd.read_csv('classA.csv')\n",
    "print(df_A2)\n",
    "df_A3 = pd.read_csv('classA.csv', index_col = 0)\n",
    "print(df_A3)\n",
    "\n",
    "np.random.seed(100)\n",
    "heights_B = pd.Series(np.random.normal(size = 5, loc = 170.0, scale = 25.0), index = index) #loc = mean,  scale = SD\n",
    "np.random.seed(100)\n",
    "weights_B = pd.Series(np.random.normal(size = 5, loc = 75.0, scale = 12.0), index = index)\n",
    "\n",
    "df_B = pd.DataFrame()\n",
    "df_B['Student_height'] = heights_B\n",
    "df_B['Student_weight'] = weights_B\n",
    "\n",
    "df_B.to_csv('classB.csv', index = 0)\n",
    "df_B2 = pd.read_csv('classB.csv')\n",
    "print(df_B2)\n",
    "df_B3 = pd.read_csv('classB.csv', header = None)\n",
    "print(df_B3)\n",
    "df_B4 = pd.read_csv('classB.csv', header = None, skiprows = 2)\n",
    "print(df_B4)"
   ]
  },
  {
   "cell_type": "code",
   "execution_count": 174,
   "metadata": {},
   "outputs": [
    {
     "name": "stdout",
     "output_type": "stream",
     "text": [
      "158.4\n",
      "s2    158.4\n",
      "s3    167.6\n",
      "s4    156.2\n",
      "dtype: float64\n",
      "<class 'pandas.core.series.Series'>\n",
      "    Student_height  Student_weight\n",
      "s1           176.2            85.1\n",
      "s2           158.4            90.2\n",
      "    Student_height  Student_weight\n",
      "s2           158.4            90.2\n",
      "s5           161.4            78.9\n",
      "s1           176.2            85.1\n",
      "    Student_height  Student_weight\n",
      "s1           176.2            85.1\n",
      "s4           156.2            80.4\n"
     ]
    }
   ],
   "source": [
    "print(heights_A[1])\n",
    "print(heights_A[slice(1,4)])\n",
    "height = df_A['Student_height']\n",
    "print(type(height))\n",
    "df_s1s2 = df_A.loc[['s1', 's2']]\n",
    "print(df_s1s2)\n",
    "df_s2s5s1 = df_A.loc[['s2', 's5', 's1']]\n",
    "print(df_s2s5s1)\n",
    "df_s1s4 = df_A.loc[df_A.index.str.endswith(('1','4'))]\n",
    "print(df_s1s4)"
   ]
  },
  {
   "cell_type": "code",
   "execution_count": 176,
   "metadata": {},
   "outputs": [
    {
     "name": "stdout",
     "output_type": "stream",
     "text": [
      "    Student_height  Student_weight Gender\n",
      "s3           167.6            76.8      M\n",
      "s5           161.4            78.9      F\n",
      "    Student_height  Student_weight Gender\n",
      "s5           161.4            78.9      F\n",
      "        Student_height  Student_weight\n",
      "Gender                                \n",
      "F           159.900000       84.550000\n",
      "M           166.666667       80.766667\n"
     ]
    }
   ],
   "source": [
    "#print(df_A)\n",
    "df_A_filter1 = df_A.loc[(df_A['Student_height'] > 160.0) & (df_A['Student_weight'] < 80.0)]\n",
    "print(df_A_filter1)\n",
    "df_A_filter2 = df_A[df_A.index.str.endswith('5')]\n",
    "print(df_A_filter2)\n",
    "df_A['Gender'] = ['M', 'F', 'M', 'M', 'F']\n",
    "df_groups = df_A.groupby('Gender')\n",
    "print(df_groups.mean())"
   ]
  },
  {
   "cell_type": "code",
   "execution_count": 222,
   "metadata": {},
   "outputs": [
    {
     "name": "stdout",
     "output_type": "stream",
     "text": [
      "    Student_height  Student_weight Gender\n",
      "s1           176.2            85.1      M\n",
      "s2           158.4            90.2      F\n",
      "s3           167.6            76.8      M\n",
      "s4           156.2            80.4      M\n",
      "s5           161.4            78.9      F\n",
      "s6           165.4            82.7      F\n",
      "     Student_height  Student_weight Gender\n",
      "s1       176.200000       85.100000      M\n",
      "s2       158.400000       90.200000      F\n",
      "s3       167.600000       76.800000      M\n",
      "s4       156.200000       80.400000      M\n",
      "s5       161.400000       78.900000      F\n",
      "s6       165.400000       82.700000      F\n",
      "s7       126.255863       54.002814      F\n",
      "s8       178.567010       79.112165      M\n",
      "s9       198.825895       88.836430      F\n",
      "s10      163.689099       71.970768      F\n",
      "s11      194.533020       86.775849      M\n"
     ]
    }
   ],
   "source": [
    "s = pd.Series([165.4, 82.7, 'F'], index = ['Student_height', 'Student_weight', 'Gender'], name = 's6')\n",
    "df_AA = df_A.append(s)\n",
    "print(df_AA)\n",
    "np.random.seed(100)\n",
    "heights_B = pd.Series(np.random.normal(size = 5, loc  = 170.0, scale = 25.0), index = index)\n",
    "np.random.seed(100)\n",
    "weights_B = pd.Series(np.random.normal(size = 5, loc = 75.0, scale = 12.0), index = index)\n",
    "df_B = pd.DataFrame(list(zip(heights_B, weights_B)), index = index, columns = ['Student_height', 'Student_weight'])\n",
    "df_B.index = 's7 s8 s9 s10 s11'.split(' ')      # set_index ====> from column to index       #   .index ===> set new indexes\n",
    "df_B['Gender'] = 'F M F F M'.split(' ')\n",
    "df = pd.concat([df_AA,df_B])\n",
    "print(df)"
   ]
  },
  {
   "cell_type": "code",
   "execution_count": 232,
   "metadata": {},
   "outputs": [
    {
     "name": "stdout",
     "output_type": "stream",
     "text": [
      "   nameid     name   product\n",
      "0     103  person3      Vivo\n",
      "1     108  person8    iPhone\n",
      "2     108  person8     Nokia\n",
      "3     108  person8  Micromax\n"
     ]
    }
   ],
   "source": [
    "nameid = pd.Series(range(101, 111))\n",
    "name = pd.Series(['person'+str(i) for i in range(1, 11)])\n",
    "master = pd.DataFrame(list(zip(nameid, name)),  columns = ['nameid', 'name'])\n",
    "transaction = pd.DataFrame({'nameid': [108, 108, 108, 103], 'product': ['iPhone', 'Nokia', 'Micromax', 'Vivo']})\n",
    "mdf = master.merge(transaction, on = 'nameid')\n",
    "print(mdf)"
   ]
  },
  {
   "cell_type": "code",
   "execution_count": 4,
   "metadata": {},
   "outputs": [
    {
     "name": "stdout",
     "output_type": "stream",
     "text": [
      "2017-09-03 00:00:00\n",
      "DatetimeIndex(['2017-09-14', '2017-09-09'], dtype='datetime64[ns]', freq=None)\n",
      "[ True  True]\n",
      "[['classA', 'classB'], ['s1', 's2', 's3', 's4', 's5']]\n"
     ]
    }
   ],
   "source": [
    "dates = pd.date_range(pd.to_datetime('01-Sep-2017'), periods = 15, freq = 'D')\n",
    "print(dates[2])\n",
    "datelist = ['14-Sep-2017', '9-Sep-2017']\n",
    "dates_to_be_searched = pd.to_datetime(datelist)\n",
    "print(dates_to_be_searched)\n",
    "check = dates_to_be_searched.isin(dates)\n",
    "print(check)\n",
    "arraylist = [['classA']*5 + ['classB']*5, ['s{}'.format(x) for x in [1,2,3,4,5]]*2]\n",
    "mi_index = pd.MultiIndex.from_arrays(arraylist)\n",
    "print(mi_index.levels)"
   ]
  },
  {
   "cell_type": "code",
   "execution_count": null,
   "metadata": {},
   "outputs": [],
   "source": []
  },
  {
   "cell_type": "code",
   "execution_count": null,
   "metadata": {},
   "outputs": [],
   "source": []
  },
  {
   "cell_type": "code",
   "execution_count": null,
   "metadata": {},
   "outputs": [],
   "source": []
  },
  {
   "cell_type": "code",
   "execution_count": null,
   "metadata": {},
   "outputs": [],
   "source": []
  },
  {
   "cell_type": "code",
   "execution_count": null,
   "metadata": {},
   "outputs": [],
   "source": []
  },
  {
   "cell_type": "code",
   "execution_count": null,
   "metadata": {},
   "outputs": [],
   "source": []
  },
  {
   "cell_type": "code",
   "execution_count": null,
   "metadata": {},
   "outputs": [],
   "source": []
  },
  {
   "cell_type": "code",
   "execution_count": null,
   "metadata": {},
   "outputs": [],
   "source": []
  },
  {
   "cell_type": "code",
   "execution_count": null,
   "metadata": {},
   "outputs": [],
   "source": []
  },
  {
   "cell_type": "code",
   "execution_count": null,
   "metadata": {},
   "outputs": [],
   "source": []
  },
  {
   "cell_type": "code",
   "execution_count": null,
   "metadata": {},
   "outputs": [],
   "source": []
  },
  {
   "cell_type": "code",
   "execution_count": null,
   "metadata": {},
   "outputs": [],
   "source": []
  },
  {
   "cell_type": "code",
   "execution_count": null,
   "metadata": {},
   "outputs": [],
   "source": []
  },
  {
   "cell_type": "code",
   "execution_count": null,
   "metadata": {},
   "outputs": [],
   "source": []
  },
  {
   "cell_type": "code",
   "execution_count": null,
   "metadata": {},
   "outputs": [],
   "source": []
  }
 ],
 "metadata": {
  "kernelspec": {
   "display_name": "Python 3",
   "language": "python",
   "name": "python3"
  },
  "language_info": {
   "codemirror_mode": {
    "name": "ipython",
    "version": 3
   },
   "file_extension": ".py",
   "mimetype": "text/x-python",
   "name": "python",
   "nbconvert_exporter": "python",
   "pygments_lexer": "ipython3",
   "version": "3.8.5"
  }
 },
 "nbformat": 4,
 "nbformat_minor": 4
}
