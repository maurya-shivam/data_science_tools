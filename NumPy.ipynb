{
 "cells": [
  {
   "cell_type": "markdown",
   "metadata": {},
   "source": [
    "-**first line**  \n",
    "    +*second in first*  \n",
    "    +*third in first*   "
   ]
  },
  {
   "cell_type": "code",
   "execution_count": 2,
   "metadata": {},
   "outputs": [],
   "source": [
    "import numpy as np"
   ]
  },
  {
   "cell_type": "code",
   "execution_count": 17,
   "metadata": {},
   "outputs": [
    {
     "name": "stdout",
     "output_type": "stream",
     "text": [
      "[[[-1  1]\n",
      "  [-2  2]]\n",
      "\n",
      " [[-3  3]\n",
      "  [-4  4]]]\n",
      "<class 'numpy.ndarray'>\n",
      "int64\n",
      "(3, (2, 2, 2), 8, dtype('int64'), 8, 64)\n",
      "\n",
      "[[1 2 3 4 5]\n",
      " [5 4 3 2 1]]\n",
      "<class 'numpy.ndarray'>\n",
      "(2, (2, 5), 10, dtype('int64'), 8, 80)\n"
     ]
    }
   ],
   "source": [
    "ls_1 = [1,2,3,4,5]\n",
    "ls_2 = [5,4,3,2,1]\n",
    "ls_3 = [-1, -2, -3 , -4]\n",
    "\n",
    "arr = np.array([ls_1, ls_2], dtype = 'int64')\n",
    "arr_2 = np.array([[[-1,1],[-2,2]],[[-3, 3], [-4, 4]]], dtype = 'int64')\n",
    "print(f'{arr_2}\\n{type(arr_2)}\\n{arr_2.dtype}\\n{     arr_2.ndim, arr_2.shape, arr_2.size, arr_2.dtype, arr_2.itemsize, arr_2.nbytes     }\\n')\n",
    "\n",
    "print(f'{arr}\\n{type(arr)}\\n{      arr.ndim, arr.shape, arr.size, arr.dtype, arr.itemsize, arr.nbytes       }')\n",
    "\n"
   ]
  },
  {
   "cell_type": "code",
   "execution_count": 4,
   "metadata": {},
   "outputs": [
    {
     "name": "stdout",
     "output_type": "stream",
     "text": [
      "[ 2  4  6  8 10 12 14 16 18]\n",
      "[10.         10.34482759 10.68965517 11.03448276 11.37931034 11.72413793\n",
      " 12.06896552 12.4137931  12.75862069 13.10344828 13.44827586 13.79310345\n",
      " 14.13793103 14.48275862 14.82758621 15.17241379 15.51724138 15.86206897\n",
      " 16.20689655 16.55172414 16.89655172 17.24137931 17.5862069  17.93103448\n",
      " 18.27586207 18.62068966 18.96551724 19.31034483 19.65517241 20.        ]\n",
      "30\n"
     ]
    }
   ],
   "source": [
    "ones = np.ones(shape = (3,2, 2))\n",
    "#print(ones)\n",
    "diag_one = np.eye(4,4)\n",
    "#print(diag_one)\n",
    "arange = np.arange(2, 20, 2)         #   (start, upto, spacing)\n",
    "print(arange)\n",
    "linspace = np.linspace(10, 20, 30)       #   (start, end, elem_count)\n",
    "print(linspace)\n",
    "print(np.count_nonzero(linspace))"
   ]
  },
  {
   "cell_type": "code",
   "execution_count": 186,
   "metadata": {},
   "outputs": [
    {
     "name": "stdout",
     "output_type": "stream",
     "text": [
      "[[88.25 93.45 72.6  90.9 ]\n",
      " [72.3  78.85 92.15 65.75]\n",
      " [90.5  92.45 89.25 94.5 ]]\n"
     ]
    }
   ],
   "source": [
    "from io import StringIO\n",
    "x = StringIO('''88.25 93.45 72.60 90.90\n",
    "72.3 78.85 92.15 65.75\n",
    "90.5 92.45 89.25 94.50\n",
    "''')\n",
    "d = np.loadtxt(x, delimiter = ' ')\n",
    "print(d)"
   ]
  },
  {
   "cell_type": "markdown",
   "metadata": {},
   "source": [
    "--Define a random 3-D array x4 of shape (3, 4, 2) and of numbers between 0 and 1.\n",
    "\n",
    "--Simulate a random normal distribution of 20 elements, whose mean is 5 and standard deviation 2.5 . Capture the result in x5. "
   ]
  },
  {
   "cell_type": "code",
   "execution_count": 317,
   "metadata": {},
   "outputs": [
    {
     "name": "stdout",
     "output_type": "stream",
     "text": [
      "normal_distribution by np.random.normal: \n",
      "[0.62558632 5.85670101 7.88258951 4.36890991 7.45330197 6.2855471\n",
      " 5.55294917 2.32489167 4.52626042 5.63750361 3.85493254 6.08790872\n",
      " 3.54101237 7.04211768 6.68180201 4.73897214 3.67179906 7.57433171\n",
      " 3.90466094 2.20420438]\n",
      "\n",
      "normal_distribution by np.random.randn() and (mean + S.D.* val): \n",
      "[0.62558632 5.85670101 7.88258951 4.36890991 7.45330197 6.2855471\n",
      " 5.55294917 2.32489167 4.52626042 5.63750361 3.85493254 6.08790872\n",
      " 3.54101237 7.04211768 6.68180201 4.73897214 3.67179906 7.57433171\n",
      " 3.90466094 2.20420438]\n",
      "\n"
     ]
    }
   ],
   "source": [
    "rand = np.random.rand(3 ,4, 2)\n",
    "#print(rand)\n",
    "np.random.seed(100)\n",
    "value = np.random.randn(20)        #     generates randome distribution of mean 0 and standard deviation 1\n",
    "np.random.seed(100)\n",
    "normal = np.random.normal(size = 20, loc = 5, scale = 2.5)\n",
    "print(f'normal_distribution by np.random.normal: \\n{normal}\\n')\n",
    "normal = 5 + 2.5 * value\n",
    "print(f'normal_distribution by np.random.randn() and (mean + S.D.* val): \\n{normal}\\n')"
   ]
  },
  {
   "cell_type": "code",
   "execution_count": 445,
   "metadata": {},
   "outputs": [
    {
     "name": "stdout",
     "output_type": "stream",
     "text": [
      "[18 34 77 97 89 58 20 62 63 76]\n",
      "[[18 34 77 97 89]\n",
      " [58 20 62 63 76]]\n",
      "[[[18 34 77 97 89]]\n",
      "\n",
      " [[58 20 62 63 76]]]\n"
     ]
    }
   ],
   "source": [
    "np.random.seed(100)\n",
    "x = np.random.randint(10, 100, 10 )\n",
    "print(x)\n",
    "print(   x.reshape(2,5)   )\n",
    "print(   x.reshape(2,1,5)   )    #    two arrays of 1x5  (3-D array)"
   ]
  },
  {
   "cell_type": "markdown",
   "metadata": {},
   "source": [
    "Create a ndarray x having first 20 natural numbers, using arange method.\n",
    "\n",
    "Determine the shape of x.\n",
    "\n",
    "Change the shape of x to (2, 10) and assign it to new array y.\n",
    "\n",
    "Split the array y horizontally in to two arrays.\n",
    "\n",
    "Now, Change the shape of x to (4, 5) and assign it to new array z.\n",
    "\n",
    "Split the array z vertically in to two arrays\n",
    "\n",
    "Create a 2-D array p, of shape (2, 2) with elements 3, 6, 9, 12.\n",
    "\n",
    "Create a 2-D array q, of shape (2, 3) with elements 15, 18, 21, 24, 27, 30.\n",
    "\n",
    "Join the two arrays p and q horizontally."
   ]
  },
  {
   "cell_type": "code",
   "execution_count": 42,
   "metadata": {},
   "outputs": [
    {
     "name": "stdout",
     "output_type": "stream",
     "text": [
      "x: [ 1  2  3  4  5  6  7  8  9 10 11 12 13 14 15 16 17 18 19 20], (20,)\n",
      "x.reshape(2,10): [[ 1  2  3  4  5  6  7  8  9 10]\n",
      " [11 12 13 14 15 16 17 18 19 20]], (2, 10)]\n",
      "\n",
      "[array([[ 1,  2,  3,  4,  5],\n",
      "       [11, 12, 13, 14, 15]]), array([[ 6,  7,  8,  9, 10],\n",
      "       [16, 17, 18, 19, 20]])]\n",
      "[[ 1  2  3  4  5]\n",
      " [ 6  7  8  9 10]\n",
      " [11 12 13 14 15]\n",
      " [16 17 18 19 20]]\n",
      "[array([[ 1,  2,  3,  4,  5],\n",
      "       [ 6,  7,  8,  9, 10]]), array([[11, 12, 13, 14, 15],\n",
      "       [16, 17, 18, 19, 20]])]\n",
      "\n",
      "[ 3  6  9 12 15 18]\n",
      "[15 18 21 24 27 30]\n",
      "\n",
      "[ 3  6  9 12 15 18 15 18 21 24 27 30] \n",
      "\n",
      "[[ 3  6  9 12 15 18]\n",
      " [15 18 21 24 27 30]]\n"
     ]
    }
   ],
   "source": [
    "x = np.arange(1,21, 1) \n",
    "print(f'x: {x}, {x.shape}')\n",
    "y = x.reshape(2,10)\n",
    "print(f'x.reshape(2,10): {y}, {y.shape}]\\n')\n",
    "\n",
    "hy = np.hsplit(y, 2)\n",
    "print(hy)\n",
    "z = x.reshape(4,5)\n",
    "print(z)\n",
    "vz = np.vsplit(z, 2)\n",
    "print(vz)\n",
    "\n",
    "p = np.arange(3, 19, 3)\n",
    "q = np.arange(15, 31, 3)\n",
    "print(f'\\n{p}\\n{q}\\n')\n",
    "\n",
    "pq_hjoin = np.hstack((p, q))\n",
    "print(pq_hjoin, '\\n')\n",
    "pq_vjoin = np.vstack((p,q))\n",
    "print(pq_vjoin)"
   ]
  },
  {
   "cell_type": "code",
   "execution_count": 458,
   "metadata": {},
   "outputs": [
    {
     "name": "stdout",
     "output_type": "stream",
     "text": [
      "[[1 2 3]\n",
      " [4 5 6]\n",
      " [7 8 9]]\n",
      "[12 15 18]\n",
      "[ 6 15 24]\n",
      "nan\n"
     ]
    }
   ],
   "source": [
    "a = np.arange(1,10).reshape(3,3)\n",
    "print(a)\n",
    "print(a.sum(axis = 0))\n",
    "print(a.sum(axis = 1))\n",
    "vals = np.array([1, np.nan, 3,4])\n",
    "print(vals.sum())"
   ]
  },
  {
   "cell_type": "code",
   "execution_count": 513,
   "metadata": {},
   "outputs": [
    {
     "name": "stdout",
     "output_type": "stream",
     "text": [
      "a = [0 2 4 6 8]\t\tb = [1 3 5 7 9]\n",
      "a**2 = [ 0  4 16 36 64]\n",
      "np.sqrt(val) = [0.   1.41 2.   2.45 2.83]\n",
      "np.multiply(vals) = [ 0  6 20 42 72]\n",
      "a+b = [ 1  5  9 13 17]\n",
      "a.min = 0\n",
      "a.mean() = 4.0\n",
      "a.st. dev =  2.8284271247461903\n",
      "a.var = 8.0\n"
     ]
    }
   ],
   "source": [
    "a, b = np.arange(0, 10, 2), np.arange(1, 10, 2)\n",
    "print(f'a = {a}\\t\\tb = {b}')\n",
    "print(f'a**2 = {a**2}')\n",
    "print(f'np.sqrt(val) = {np.sqrt(a).round(2)}')\n",
    "print(f'np.multiply(vals) = {np.multiply(a,b)}')\n",
    "print(f'a+b = {a+b}')         # everything is element-wise\n",
    "print(f'a.min = {a.min()}')\n",
    "print(f'a.mean() = {a.mean()}')\n",
    "print(f'a.st. dev =  {a.std()}')\n",
    "print(f'a.var = {a.var()}')"
   ]
  },
  {
   "cell_type": "markdown",
   "metadata": {},
   "source": [
    "#### Indexing and Slicing"
   ]
  },
  {
   "cell_type": "code",
   "execution_count": 537,
   "metadata": {},
   "outputs": [
    {
     "name": "stdout",
     "output_type": "stream",
     "text": [
      "[0 1 2 3 4 5 6 7 8 9]\n",
      "3\n",
      "[2 3]\n",
      "[2 5]\n"
     ]
    }
   ],
   "source": [
    "#  1-D ndarray\n",
    "x = np.arange(10)\n",
    "print(f'{   x   }\\n{   x[3]   }\\n{   x[2:4]   }')\n",
    "print(x[2:6:3])   # starts from 2 followed by 3 spaces till 6 (excluding it just like normal indexing)"
   ]
  },
  {
   "cell_type": "code",
   "execution_count": 641,
   "metadata": {},
   "outputs": [
    {
     "name": "stdout",
     "output_type": "stream",
     "text": [
      "[[ 0  1  2  3  4  5  6  7  8  9]\n",
      " [10 11 12 13 14 15 16 17 18 19]]\n",
      "[[ 5  6  7]\n",
      " [15 16 17]]\n",
      "[[14 15 16 17 18 19]]\n",
      "[14 15 16 17 18 19]\n",
      "[[17 18 19]]\n",
      "[ 7 17]\n",
      "17\n",
      "[[ 7]\n",
      " [17]]\n"
     ]
    }
   ],
   "source": [
    "# 2-D ndarray\n",
    "y = np.arange(0,20).reshape(2,10)\n",
    "print(y)\n",
    "print(  y[:, 5:8]  )\n",
    "print(  y[1:, 4:]  )\n",
    "print(  y[1][4:] )        #  [][]  is used for indexing not useful for slicing\n",
    "print(  y[1:, 7:10]  )    #  print(  y[1:2, 7:10] )\n",
    "print(  y[:, 7]  )\n",
    "print(  y[:, 7:8]  )\n"
   ]
  },
  {
   "cell_type": "code",
   "execution_count": 649,
   "metadata": {},
   "outputs": [
    {
     "name": "stdout",
     "output_type": "stream",
     "text": [
      "[4 5]\n",
      "[[-5  5]\n",
      " [-9  9]]\n",
      "[[-7  7]\n",
      " [-9  9]]\n",
      "[-2, -7]\n"
     ]
    }
   ],
   "source": [
    "# 3-D ndarray\n",
    "z = np.array([[[-1, 1], [-2, 2]],\n",
    "              [[-4, 4], [-5, 5]],\n",
    "              [[-7, 7], [-9, 9]]])\n",
    "print(  z[1, :, 1]  )        #   takes second row,  including all elems in that row,   filter only second columns in sub arr.\n",
    "print(  z[1:, 1, :]  )\n",
    "print(  z[2, :, :]  )   #  z[2]\n",
    "print([z[0, 1, 0]]+[z[2, 0, 0]])\n"
   ]
  },
  {
   "cell_type": "code",
   "execution_count": 664,
   "metadata": {},
   "outputs": [
    {
     "name": "stdout",
     "output_type": "stream",
     "text": [
      "[0 1 2 3 4 5 6 7 8 9]\n",
      "[10 11 12 13 14 15 16 17 18 19]\n"
     ]
    }
   ],
   "source": [
    "for i in y:\n",
    "    print(i)"
   ]
  },
  {
   "cell_type": "code",
   "execution_count": 661,
   "metadata": {},
   "outputs": [
    {
     "name": "stdout",
     "output_type": "stream",
     "text": [
      "-1 1 -2 2 -4 4 -5 5 -7 7 -9 9 "
     ]
    }
   ],
   "source": [
    "for i in np.nditer(z):      # for accessing each and every element in a numpy array\n",
    "    print(i, end = ' ')"
   ]
  },
  {
   "cell_type": "code",
   "execution_count": 674,
   "metadata": {},
   "outputs": [
    {
     "name": "stdout",
     "output_type": "stream",
     "text": [
      "[[ True False  True False  True False  True False  True False]\n",
      " [ True False  True False  True False  True False  True False]]\n",
      "[ 0  2  4  6  8 10 12 14 16 18]\n",
      "[-1 -2 -4 -5 -7 -9]\n"
     ]
    }
   ],
   "source": [
    "# boolean indexing ,  just like pandas\n",
    "print(  y % 2 == 0  )\n",
    "print(  y[y % 2 == 0 ]  )\n",
    "print(  z[z<0]  )"
   ]
  },
  {
   "cell_type": "code",
   "execution_count": null,
   "metadata": {},
   "outputs": [],
   "source": []
  },
  {
   "cell_type": "code",
   "execution_count": null,
   "metadata": {},
   "outputs": [],
   "source": []
  },
  {
   "cell_type": "code",
   "execution_count": null,
   "metadata": {},
   "outputs": [],
   "source": []
  },
  {
   "cell_type": "code",
   "execution_count": null,
   "metadata": {},
   "outputs": [],
   "source": []
  },
  {
   "cell_type": "code",
   "execution_count": null,
   "metadata": {},
   "outputs": [],
   "source": []
  },
  {
   "cell_type": "code",
   "execution_count": null,
   "metadata": {},
   "outputs": [],
   "source": []
  },
  {
   "cell_type": "code",
   "execution_count": null,
   "metadata": {},
   "outputs": [],
   "source": []
  },
  {
   "cell_type": "code",
   "execution_count": null,
   "metadata": {},
   "outputs": [],
   "source": []
  },
  {
   "cell_type": "code",
   "execution_count": null,
   "metadata": {},
   "outputs": [],
   "source": []
  },
  {
   "cell_type": "code",
   "execution_count": null,
   "metadata": {},
   "outputs": [],
   "source": []
  },
  {
   "cell_type": "code",
   "execution_count": null,
   "metadata": {},
   "outputs": [],
   "source": []
  },
  {
   "cell_type": "code",
   "execution_count": null,
   "metadata": {},
   "outputs": [],
   "source": []
  },
  {
   "cell_type": "code",
   "execution_count": null,
   "metadata": {},
   "outputs": [],
   "source": []
  },
  {
   "cell_type": "code",
   "execution_count": null,
   "metadata": {},
   "outputs": [],
   "source": []
  },
  {
   "cell_type": "code",
   "execution_count": null,
   "metadata": {},
   "outputs": [],
   "source": []
  },
  {
   "cell_type": "code",
   "execution_count": null,
   "metadata": {},
   "outputs": [],
   "source": []
  },
  {
   "cell_type": "code",
   "execution_count": null,
   "metadata": {},
   "outputs": [],
   "source": []
  },
  {
   "cell_type": "code",
   "execution_count": null,
   "metadata": {},
   "outputs": [],
   "source": []
  },
  {
   "cell_type": "code",
   "execution_count": null,
   "metadata": {},
   "outputs": [],
   "source": []
  },
  {
   "cell_type": "code",
   "execution_count": null,
   "metadata": {},
   "outputs": [],
   "source": []
  },
  {
   "cell_type": "code",
   "execution_count": null,
   "metadata": {},
   "outputs": [],
   "source": []
  },
  {
   "cell_type": "code",
   "execution_count": null,
   "metadata": {},
   "outputs": [],
   "source": []
  },
  {
   "cell_type": "code",
   "execution_count": null,
   "metadata": {},
   "outputs": [],
   "source": []
  }
 ],
 "metadata": {
  "kernelspec": {
   "display_name": "Python 3",
   "language": "python",
   "name": "python3"
  },
  "language_info": {
   "codemirror_mode": {
    "name": "ipython",
    "version": 3
   },
   "file_extension": ".py",
   "mimetype": "text/x-python",
   "name": "python",
   "nbconvert_exporter": "python",
   "pygments_lexer": "ipython3",
   "version": "3.8.5"
  }
 },
 "nbformat": 4,
 "nbformat_minor": 4
}
